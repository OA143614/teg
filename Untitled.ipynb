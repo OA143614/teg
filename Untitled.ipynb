{
 "cells": [
  {
   "cell_type": "code",
   "execution_count": 1,
   "id": "cc80bdba-7856-46c3-9a55-81330ca568cf",
   "metadata": {},
   "outputs": [
    {
     "name": "stdout",
     "output_type": "stream",
     "text": [
      "Hello\n"
     ]
    }
   ],
   "source": [
    "print(\"Hello\")"
   ]
  },
  {
   "cell_type": "code",
   "execution_count": 9,
   "id": "1117bc1c-3dcf-409a-8461-a52b5c8ad56f",
   "metadata": {},
   "outputs": [
    {
     "name": "stdout",
     "output_type": "stream",
     "text": [
      "Number of hidden states : 2\n",
      "Number of observations : 2\n",
      "State probability:  [0.6 0.4]\n",
      "\n",
      "Transition probability:\n",
      " [[0.7 0.3]\n",
      " [0.3 0.7]]\n",
      "\n",
      "Emission probability:\n",
      " [[0.9 0.1]\n",
      " [0.2 0.8]]\n"
     ]
    },
    {
     "data": {
      "text/plain": [
       "array([[0],\n",
       "       [1],\n",
       "       [0],\n",
       "       [1],\n",
       "       [0],\n",
       "       [0]])"
      ]
     },
     "execution_count": 9,
     "metadata": {},
     "output_type": "execute_result"
    }
   ],
   "source": [
    "# import the necessary libraries\n",
    "import numpy as np\n",
    "import matplotlib.pyplot as plt\n",
    "import seaborn as sns\n",
    "from hmmlearn import hmm\n",
    "\n",
    "# Define the state space\n",
    "states = [\"Sunny\", \"Rainy\"]\n",
    "n_states = len(states)\n",
    "print('Number of hidden states :',n_states)\n",
    "# Define the observation space\n",
    "observations = [\"Dry\", \"Wet\"]\n",
    "n_observations = len(observations)\n",
    "print('Number of observations :',n_observations)\n",
    "\n",
    "# Define the initial state distribution\n",
    "state_probability = np.array([0.6, 0.4])\n",
    "print(\"State probability: \", state_probability)\n",
    "\n",
    "# Define the state transition probabilities\n",
    "transition_probability = np.array([[0.7, 0.3],\n",
    "\t\t\t\t\t\t\t\t[0.3, 0.7]])\n",
    "print(\"\\nTransition probability:\\n\", transition_probability)\n",
    "# Define the observation likelihoods\n",
    "emission_probability= np.array([[0.9, 0.1],\n",
    "\t\t\t\t\t\t\t\t[0.2, 0.8]])\n",
    "print(\"\\nEmission probability:\\n\", emission_probability)\n",
    "\n",
    "model = hmm.CategoricalHMM(n_components=n_states)\n",
    "model.startprob_ = state_probability\n",
    "model.transmat_ = transition_probability\n",
    "model.emissionprob_ = emission_probability\n",
    "\n",
    "# Define the sequence of observations\n",
    "observations_sequence = np.array([0, 1, 0, 1, 0, 0]).reshape(-1, 1)\n",
    "observations_sequence\n",
    "\n",
    "\n"
   ]
  },
  {
   "cell_type": "code",
   "execution_count": null,
   "id": "3914e164-9cc8-4861-8f49-046aa46e8d9c",
   "metadata": {},
   "outputs": [],
   "source": []
  }
 ],
 "metadata": {
  "kernelspec": {
   "display_name": "Python 3 (ipykernel)",
   "language": "python",
   "name": "python3"
  },
  "language_info": {
   "codemirror_mode": {
    "name": "ipython",
    "version": 3
   },
   "file_extension": ".py",
   "mimetype": "text/x-python",
   "name": "python",
   "nbconvert_exporter": "python",
   "pygments_lexer": "ipython3",
   "version": "3.12.5"
  }
 },
 "nbformat": 4,
 "nbformat_minor": 5
}
